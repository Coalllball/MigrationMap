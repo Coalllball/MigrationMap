{
 "cells": [
  {
   "attachments": {},
   "cell_type": "markdown",
   "metadata": {},
   "source": [
    "# Prepare the storymap framework"
   ]
  },
  {
   "cell_type": "code",
   "execution_count": 17,
   "metadata": {},
   "outputs": [],
   "source": [
    "from arcgis.gis import GIS\n",
    "from arcgis.apps.storymap.story import StoryMap\n",
    "from arcgis.apps.storymap.story_content import Image, TextStyles, Video, Audio, Embed, Map, Text, Button, Gallery, Swipe, Sidecar, Timeline\n",
    "from arcgis.gis import Item\n",
    "from IPython.display import display"
   ]
  },
  {
   "attachments": {},
   "cell_type": "markdown",
   "metadata": {},
   "source": [
    "*removed login values here*"
   ]
  },
  {
   "cell_type": "code",
   "execution_count": 4,
   "metadata": {},
   "outputs": [
    {
     "data": {
      "text/html": [
       "<div class=\"item_container\" style=\"height: auto; overflow: hidden; border: 1px solid #cfcfcf; border-radius: 2px; background: #f6fafa; line-height: 1.21429em; padding: 10px;\">\n",
       "                    <div class=\"item_left\" style=\"width: 210px; float: left;\">\n",
       "                       <a href='https://PrattSAVI.maps.arcgis.com/home/item.html?id=fa7812bc413c4206ae093604137cd4ca' target='_blank'>\n",
       "                        <img src='http://static.arcgis.com/images/desktopapp.png' class=\"itemThumbnail\">\n",
       "                       </a>\n",
       "                    </div>\n",
       "\n",
       "                    <div class=\"item_right\"     style=\"float: none; width: auto; overflow: hidden;\">\n",
       "                        <a href='https://PrattSAVI.maps.arcgis.com/home/item.html?id=fa7812bc413c4206ae093604137cd4ca' target='_blank'><b>StoryMap via Python 34e3c38603</b>\n",
       "                        </a>\n",
       "                        <br/><img src='https://PrattSAVI.maps.arcgis.com/home/js/jsapi/esri/css/images/item_type_icons/layers16.png' style=\"vertical-align:middle;\">StoryMap by jchen674_PrattSAVI\n",
       "                        <br/>Last Modified: May 08, 2023\n",
       "                        <br/>0 comments, 0 views\n",
       "                    </div>\n",
       "                </div>\n",
       "                "
      ],
      "text/plain": [
       "{\"root\": \"n-109046\", \"nodes\": {\"n-aTn8ak\": {\"type\": \"storycover\", \"data\": {\"type\": \"minimal\", \"title\": \"\", \"summary\": \"\", \"byline\": \"jchen674_PrattSAVI\", \"titlePanelPosition\": \"start\"}}, \"n-1AItUD\": {\"type\": \"navigation\", \"data\": {\"links\": []}, \"config\": {\"isHidden\": true}}, \"n-cOeTah\": {\"type\": \"credits\"}, \"n-109046\": {\"type\": \"story\", \"data\": {\"storyTheme\": \"r-vlc4Kp\"}, \"config\": {\"coverDate\": \"first-published\", \"storyLocale\": \"en-US\"}, \"children\": [\"n-aTn8ak\", \"n-1AItUD\", \"n-cOeTah\"]}}, \"resources\": {\"r-vlc4Kp\": {\"type\": \"story-theme\", \"data\": {\"themeId\": \"summit\", \"themeBaseVariableOverrides\": {}}}}}"
      ]
     },
     "execution_count": 4,
     "metadata": {},
     "output_type": "execute_result"
    }
   ],
   "source": [
    "migrationMap = StoryMap()\n",
    "migrationMap"
   ]
  },
  {
   "cell_type": "code",
   "execution_count": 5,
   "metadata": {},
   "outputs": [
    {
     "data": {
      "text/plain": [
       "[{'n-aTn8ak': 'storycover'},\n",
       " {'n-1AItUD': 'navigation'},\n",
       " {'n-cOeTah': 'credits'}]"
      ]
     },
     "execution_count": 5,
     "metadata": {},
     "output_type": "execute_result"
    }
   ],
   "source": [
    "migrationMap.nodes"
   ]
  },
  {
   "cell_type": "code",
   "execution_count": 6,
   "metadata": {},
   "outputs": [
    {
     "data": {
      "text/plain": [
       "{'type': 'storycover',\n",
       " 'data': {'type': 'minimal',\n",
       "  'title': '',\n",
       "  'summary': '',\n",
       "  'byline': 'jchen674_PrattSAVI',\n",
       "  'titlePanelPosition': 'start'}}"
      ]
     },
     "execution_count": 6,
     "metadata": {},
     "output_type": "execute_result"
    }
   ],
   "source": [
    "migrationMap.cover()"
   ]
  },
  {
   "cell_type": "code",
   "execution_count": 7,
   "metadata": {},
   "outputs": [
    {
     "data": {
      "text/plain": [
       "{'type': 'storycover',\n",
       " 'data': {'type': 'full',\n",
       "  'title': \"Young People's Migration Trends\",\n",
       "  'summary': 'A StoryMap of Migration Patterns from 2000 to 2018',\n",
       "  'byline': 'Jiacheng Chen',\n",
       "  'titlePanelPosition': 'start'}}"
      ]
     },
     "execution_count": 7,
     "metadata": {},
     "output_type": "execute_result"
    }
   ],
   "source": [
    "migrationMap.cover(type='full', \\\n",
    "               title=\"Young People\\'s Migration Trends\",\\\n",
    "                summary=\"A StoryMap of Migration Patterns from 2000 to 2018\",\\\n",
    "               by_line='Jiacheng Chen')"
   ]
  },
  {
   "cell_type": "code",
   "execution_count": 8,
   "metadata": {},
   "outputs": [
    {
     "data": {
      "text/plain": [
       "<arcgis.apps.storymap.story_content.Image at 0x2114546ce80>"
      ]
     },
     "execution_count": 8,
     "metadata": {},
     "output_type": "execute_result"
    }
   ],
   "source": [
    "# set path to cover image\n",
    "my_cover_image = Image(path='https://story.maps.arcgis.com/sharing/rest/content/items/2fcc801c983a402eb427dd5cd07ee759/data')\n",
    "my_cover_image"
   ]
  },
  {
   "cell_type": "code",
   "execution_count": 9,
   "metadata": {},
   "outputs": [
    {
     "data": {
      "text/plain": [
       "{'type': 'storycover',\n",
       " 'data': {'type': 'full',\n",
       "  'title': \"Young People's Migration Trends\",\n",
       "  'summary': 'A StoryMap of Migration Patterns from 2000 to 2018',\n",
       "  'byline': 'Jiacheng Chen',\n",
       "  'titlePanelPosition': 'start'},\n",
       " 'children': ['n-0b5027']}"
      ]
     },
     "execution_count": 9,
     "metadata": {},
     "output_type": "execute_result"
    }
   ],
   "source": [
    "migrationMap.cover(image=my_cover_image)"
   ]
  },
  {
   "cell_type": "code",
   "execution_count": 10,
   "metadata": {},
   "outputs": [
    {
     "data": {
      "text/html": [
       "<div class=\"item_container\" style=\"height: auto; overflow: hidden; border: 1px solid #cfcfcf; border-radius: 2px; background: #f6fafa; line-height: 1.21429em; padding: 10px;\">\n",
       "                    <div class=\"item_left\" style=\"width: 210px; float: left;\">\n",
       "                       <a href='https://PrattSAVI.maps.arcgis.com/home/item.html?id=fa7812bc413c4206ae093604137cd4ca' target='_blank'>\n",
       "                        <img src='http://static.arcgis.com/images/desktopapp.png' class=\"itemThumbnail\">\n",
       "                       </a>\n",
       "                    </div>\n",
       "\n",
       "                    <div class=\"item_right\"     style=\"float: none; width: auto; overflow: hidden;\">\n",
       "                        <a href='https://PrattSAVI.maps.arcgis.com/home/item.html?id=fa7812bc413c4206ae093604137cd4ca' target='_blank'><b>StoryMap via Python 34e3c38603</b>\n",
       "                        </a>\n",
       "                        <br/><img src='https://PrattSAVI.maps.arcgis.com/home/js/jsapi/esri/css/images/item_type_icons/layers16.png' style=\"vertical-align:middle;\">StoryMap by jchen674_PrattSAVI\n",
       "                        <br/>Last Modified: May 08, 2023\n",
       "                        <br/>0 comments, 0 views\n",
       "                    </div>\n",
       "                </div>\n",
       "                "
      ],
      "text/plain": [
       "<Item title:\"StoryMap via Python 34e3c38603\" type:StoryMap owner:jchen674_PrattSAVI>"
      ]
     },
     "execution_count": 10,
     "metadata": {},
     "output_type": "execute_result"
    }
   ],
   "source": [
    "migrationMap.save(publish=True)"
   ]
  },
  {
   "attachments": {},
   "cell_type": "markdown",
   "metadata": {},
   "source": [
    "# Mapping with ArcGIS python API"
   ]
  },
  {
   "cell_type": "code",
   "execution_count": 16,
   "metadata": {},
   "outputs": [],
   "source": [
    "import pandas as pd\n",
    "df_od_centroid = pd.read_csv('../data/pooled data/df_od_centroids.csv')"
   ]
  },
  {
   "cell_type": "code",
   "execution_count": 12,
   "metadata": {},
   "outputs": [],
   "source": [
    "from arcgis.features import FeatureLayerCollection"
   ]
  },
  {
   "cell_type": "code",
   "execution_count": 13,
   "metadata": {},
   "outputs": [],
   "source": [
    "migration_data = df_od_centroid[['cz_id_x', 'cz_id_y', 'centroid_x', 'centroid_y']] # Select only necessary columns\n",
    "migration_data = df_od_centroid.rename(columns={'cz_id_x': 'start_id', 'cz_id_y': 'end_id', 'centroid_x': 'start_location', 'centroid_y': 'end_location'}) # Rename columns to match the expected format"
   ]
  },
  {
   "cell_type": "code",
   "execution_count": 25,
   "metadata": {},
   "outputs": [],
   "source": [
    "us_map = gis.map('United States', zoomlevel=3)\n",
    "us_map.basemap = 'gray-vector'"
   ]
  },
  {
   "cell_type": "code",
   "execution_count": 26,
   "metadata": {},
   "outputs": [
    {
     "data": {
      "application/vnd.jupyter.widget-view+json": {
       "model_id": "bc0bbf3a2b56483fa62416e12dfa9cf1",
       "version_major": 2,
       "version_minor": 0
      },
      "text/plain": [
       "MapView(layout=Layout(height='400px', width='100%'))"
      ]
     },
     "metadata": {},
     "output_type": "display_data"
    },
    {
     "data": {
      "text/html": [
       "<div class=\"map-static-img-preview-cbbc684a-293d-4991-b1fd-4c3307b4488d\"><img src=\"\"></img></div>"
      ],
      "text/plain": [
       "<IPython.core.display.HTML object>"
      ]
     },
     "metadata": {},
     "output_type": "display_data"
    },
    {
     "data": {
      "text/html": [
       "<div class=\"map-html-embed-preview-cbbc684a-293d-4991-b1fd-4c3307b4488d\"></div>"
      ],
      "text/plain": [
       "<IPython.core.display.HTML object>"
      ]
     },
     "metadata": {},
     "output_type": "display_data"
    }
   ],
   "source": [
    "us_map"
   ]
  },
  {
   "cell_type": "code",
   "execution_count": null,
   "metadata": {},
   "outputs": [],
   "source": [
    "import arcpy"
   ]
  },
  {
   "cell_type": "code",
   "execution_count": null,
   "metadata": {},
   "outputs": [],
   "source": [
    "arcpy.management.XYToLine(\"df_od_xy.csv\", r\"C:\\Users\\chenj\\Desktop\\SP 2023 Pratt\\INFO 696\\final project\\final\\final.gdb\\df_od_xy_XYToLine\", \"o_x\", \"d_x\", \"d_x\", \"d_y\", \"GEODESIC\", None, 'GEOGCS[\"GCS_WGS_1984\",DATUM[\"D_WGS_1984\",SPHEROID[\"WGS_1984\",6378137.0,298.257223563]],PRIMEM[\"Greenwich\",0.0],UNIT[\"Degree\",0.0174532925199433]];-400 -400 1000000000;-100000 10000;-100000 10000;8.98315284119521E-09;0.001;0.001;IsHighPrecision', \"NO_ATTRIBUTES\")"
   ]
  }
 ],
 "metadata": {
  "kernelspec": {
   "display_name": "Python 3",
   "language": "python",
   "name": "python3"
  },
  "language_info": {
   "codemirror_mode": {
    "name": "ipython",
    "version": 3
   },
   "file_extension": ".py",
   "mimetype": "text/x-python",
   "name": "python",
   "nbconvert_exporter": "python",
   "pygments_lexer": "ipython3",
   "version": "3.9.11"
  },
  "orig_nbformat": 4
 },
 "nbformat": 4,
 "nbformat_minor": 2
}
